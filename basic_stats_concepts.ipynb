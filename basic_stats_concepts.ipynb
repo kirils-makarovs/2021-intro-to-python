{
  "nbformat": 4,
  "nbformat_minor": 0,
  "metadata": {
    "colab": {
      "provenance": [],
      "mount_file_id": "157p2dupM6EhY2u-nrj_ffkQuqPEWuSRS",
      "authorship_tag": "ABX9TyM1uUJF5+QI43majftB2SNv",
      "include_colab_link": true
    },
    "kernelspec": {
      "name": "python3",
      "display_name": "Python 3"
    },
    "language_info": {
      "name": "python"
    }
  },
  "cells": [
    {
      "cell_type": "markdown",
      "metadata": {
        "id": "view-in-github",
        "colab_type": "text"
      },
      "source": [
        "<a href=\"https://colab.research.google.com/github/kirils-makarovs/2021-intro-to-python/blob/main/basic_stats_concepts.ipynb\" target=\"_parent\"><img src=\"https://colab.research.google.com/assets/colab-badge.svg\" alt=\"Open In Colab\"/></a>"
      ]
    },
    {
      "cell_type": "markdown",
      "metadata": {
        "id": "EWB457PFT4J2"
      },
      "source": [
        "# **12.04.2023**\n",
        "\n",
        "# **Basic statistical concepts (review)**\n",
        "\n",
        "---\n"
      ]
    },
    {
      "cell_type": "code",
      "source": [
        "# Import libraries\n",
        "\n",
        "import pandas as pd\n",
        "import numpy as np\n",
        "import math\n",
        "\n",
        "from random import seed\n",
        "from random import randint\n"
      ],
      "metadata": {
        "id": "oYF6PjJNfBDC"
      },
      "execution_count": null,
      "outputs": []
    },
    {
      "cell_type": "code",
      "source": [
        "# Generate data\n",
        "\n",
        "# Setting seed\n",
        "seed(1)\n",
        "\n",
        "# Generate 10 integer values from the 0-100 range\n",
        "my_array = [(randint(1, 100)) for i in range(10)]\n",
        "\n",
        "my_array\n",
        "\n",
        "# Elaborated for loop\n",
        "# array = []\n",
        "\n",
        "# for i in range(10):\n",
        "#   value = randint(0,101)\n",
        "#   array.append(value)\n"
      ],
      "metadata": {
        "colab": {
          "base_uri": "https://localhost:8080/"
        },
        "id": "fA3TVwk0fIX9",
        "outputId": "4f680459-f7db-42ec-e99f-5f6ce8c25e1f"
      },
      "execution_count": null,
      "outputs": [
        {
          "output_type": "execute_result",
          "data": {
            "text/plain": [
              "[18, 73, 98, 9, 33, 16, 64, 98, 58, 61]"
            ]
          },
          "metadata": {},
          "execution_count": 2
        }
      ]
    },
    {
      "cell_type": "markdown",
      "metadata": {
        "id": "Sf3qr9ykecrI"
      },
      "source": [
        "## **1. Mean, variance, and standard deviation**\n"
      ]
    },
    {
      "cell_type": "markdown",
      "metadata": {
        "id": "_FOQoKsVlPDn"
      },
      "source": [
        "### **1.1 Mean**\n"
      ]
    },
    {
      "cell_type": "code",
      "source": [
        "# Define a function that calculates the mean value of the array\n",
        "\n",
        "def mean_value(x):\n",
        "  x_len = len(x)\n",
        "  x_sum = sum(x)\n",
        "  mean = x_sum / x_len\n",
        "  mean = round(mean,2)\n",
        "  return(mean)\n"
      ],
      "metadata": {
        "id": "E-gehWadeboZ"
      },
      "execution_count": null,
      "outputs": []
    },
    {
      "cell_type": "code",
      "source": [
        "mean_my_array = mean_value(my_array)\n",
        "\n",
        "print(f\"The mean value of the array is {mean_my_array}\")\n"
      ],
      "metadata": {
        "colab": {
          "base_uri": "https://localhost:8080/"
        },
        "id": "mrvi7arqjack",
        "outputId": "a8bed2ed-545c-42cb-9072-9add0b932193"
      },
      "execution_count": null,
      "outputs": [
        {
          "output_type": "stream",
          "name": "stdout",
          "text": [
            "The mean value of the array is 52.8\n"
          ]
        }
      ]
    },
    {
      "cell_type": "markdown",
      "metadata": {
        "id": "z-hWRSpHlUzc"
      },
      "source": [
        "---\n",
        "\n",
        "### **1.2 Variance**\n"
      ]
    },
    {
      "cell_type": "code",
      "source": [
        "# Let's use the same array and calculate its variance\n",
        "\n",
        "my_array\n"
      ],
      "metadata": {
        "colab": {
          "base_uri": "https://localhost:8080/"
        },
        "id": "avcS3cuDlMwQ",
        "outputId": "b0ebb656-f68d-4ce0-ed77-6ec432734a26"
      },
      "execution_count": null,
      "outputs": [
        {
          "output_type": "execute_result",
          "data": {
            "text/plain": [
              "[18, 73, 98, 9, 33, 16, 64, 98, 58, 61]"
            ]
          },
          "metadata": {},
          "execution_count": 5
        }
      ]
    },
    {
      "cell_type": "code",
      "source": [
        "def variance_value(x):\n",
        "  x_len = len(x)\n",
        "  x_mean = sum(x) / len(x)\n",
        "  devs = [i - x_mean for i in x]\n",
        "  devs_sq = [i ** 2 for i in devs]\n",
        "  sum_sq_devs = sum(devs_sq)\n",
        "  variance = sum_sq_devs / x_len\n",
        "  variance = round(variance,2)\n",
        "  return(variance)\n"
      ],
      "metadata": {
        "id": "6F9LQFPPl9EB"
      },
      "execution_count": null,
      "outputs": []
    },
    {
      "cell_type": "code",
      "source": [
        "variance_my_array = variance_value(my_array)\n",
        "\n",
        "print(f\"The variance of the array is {variance_my_array}\")\n"
      ],
      "metadata": {
        "colab": {
          "base_uri": "https://localhost:8080/"
        },
        "id": "2WOfqk5FnO_D",
        "outputId": "ca3f882d-340b-4aca-bb60-c4c6cf093fa8"
      },
      "execution_count": null,
      "outputs": [
        {
          "output_type": "stream",
          "name": "stdout",
          "text": [
            "The variance of the array is 958.96\n"
          ]
        }
      ]
    },
    {
      "cell_type": "markdown",
      "metadata": {
        "id": "FpRNwEh_nZQW"
      },
      "source": [
        "---\n",
        "\n",
        "### **1.3 Standard deviation**\n"
      ]
    },
    {
      "cell_type": "code",
      "source": [
        "def st_dev_value(x):\n",
        "  x_len = len(x)\n",
        "  x_mean = sum(x) / len(x)\n",
        "  devs = [i - x_mean for i in x]\n",
        "  devs_sq = [i ** 2 for i in devs]\n",
        "  sum_sq_devs = sum(devs_sq)\n",
        "  variance = sum_sq_devs / x_len\n",
        "  st_dev = math.sqrt(variance)\n",
        "  st_dev = round(st_dev,2)\n",
        "  return(st_dev)\n"
      ],
      "metadata": {
        "id": "5WUduAdWnbo-"
      },
      "execution_count": null,
      "outputs": []
    },
    {
      "cell_type": "code",
      "source": [
        "st_dev_my_array = st_dev_value(my_array)\n",
        "\n",
        "print(f\"The standard deviation of the array is {st_dev_my_array}\")\n"
      ],
      "metadata": {
        "colab": {
          "base_uri": "https://localhost:8080/"
        },
        "outputId": "6ab6fd6d-710a-4754-d2d5-afcf5e51ab98",
        "id": "v4UQ4F2-nypl"
      },
      "execution_count": null,
      "outputs": [
        {
          "output_type": "stream",
          "name": "stdout",
          "text": [
            "The standard deviation of the array is 30.97\n"
          ]
        }
      ]
    },
    {
      "cell_type": "code",
      "source": [
        "# Comparing your results with built-in numpy functions\n",
        "\n",
        "# Mean\n",
        "\n",
        "mean_my_array == np.mean(my_array)\n"
      ],
      "metadata": {
        "colab": {
          "base_uri": "https://localhost:8080/"
        },
        "id": "axV4f8LSoGwU",
        "outputId": "52d9be2f-1488-4688-f922-a1bae00ebca7"
      },
      "execution_count": null,
      "outputs": [
        {
          "output_type": "execute_result",
          "data": {
            "text/plain": [
              "True"
            ]
          },
          "metadata": {},
          "execution_count": 17
        }
      ]
    },
    {
      "cell_type": "code",
      "source": [
        "# Variance\n",
        "\n",
        "variance_my_array == np.var(my_array)\n"
      ],
      "metadata": {
        "id": "K43aaKkvpCpX"
      },
      "execution_count": null,
      "outputs": []
    },
    {
      "cell_type": "code",
      "source": [
        "# Standard deviation\n",
        "\n",
        "st_dev_my_array == round(np.std(my_array),2)\n"
      ],
      "metadata": {
        "id": "38fczBuopDrB"
      },
      "execution_count": null,
      "outputs": []
    },
    {
      "cell_type": "markdown",
      "metadata": {
        "id": "zZGVlcNcsVse"
      },
      "source": [
        "## **2. Covariance and correlation**\n"
      ]
    },
    {
      "cell_type": "code",
      "source": [],
      "metadata": {
        "id": "NGdscbXFsXe-"
      },
      "execution_count": null,
      "outputs": []
    }
  ]
}